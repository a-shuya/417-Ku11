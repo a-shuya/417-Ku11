{
 "cells": [
  {
   "cell_type": "code",
   "execution_count": 1,
   "metadata": {},
   "outputs": [
    {
     "name": "stderr",
     "output_type": "stream",
     "text": [
      "/var/folders/5h/w_ddszcj1b9581y293ys2dw40000gn/T/ipykernel_3155/1855272890.py:14: MatplotlibDeprecationWarning: The seaborn styles shipped by Matplotlib are deprecated since 3.6, as they no longer correspond to the styles shipped by seaborn. However, they will remain available as 'seaborn-v0_8-<style>'. Alternatively, directly use the seaborn API instead.\n",
      "  plt.style.use('seaborn-white')\n"
     ]
    }
   ],
   "source": [
    "import numpy as np\n",
    "import pandas as pd\n",
    "import matplotlib.pyplot as plt\n",
    "import seaborn as sns\n",
    "from scipy.special import factorial\n",
    "from scipy.stats import poisson\n",
    "from scipy.stats import chi2\n",
    "import statsmodels.api as sm\n",
    "import statsmodels.formula.api as smf\n",
    "from statsmodels.tools import add_constant\n",
    "from sklearn.linear_model import LogisticRegression\n",
    "from sklearn.metrics import log_loss\n",
    "%matplotlib inline\n",
    "plt.style.use('seaborn-white')\n",
    "plt.rcParams['figure.figsize'] = (5,3)"
   ]
  },
  {
   "cell_type": "code",
   "execution_count": 2,
   "metadata": {},
   "outputs": [],
   "source": [
    "da = pd.read_csv('Ecology Data 4a.csv')\n",
    "db = pd.read_csv('Ecology Data 4b.csv')"
   ]
  },
  {
   "cell_type": "code",
   "execution_count": 3,
   "metadata": {},
   "outputs": [
    {
     "name": "stdout",
     "output_type": "stream",
     "text": [
      "           N           y           x\n",
      "count  100.0  100.000000  100.000000\n",
      "mean     8.0    5.080000    9.967200\n",
      "std      0.0    2.743882    1.088954\n",
      "min      8.0    0.000000    7.660000\n",
      "25%      8.0    3.000000    9.337500\n",
      "50%      8.0    6.000000    9.965000\n",
      "75%      8.0    8.000000   10.770000\n",
      "max      8.0    8.000000   12.440000\n"
     ]
    }
   ],
   "source": [
    "print(da.describe())"
   ]
  },
  {
   "cell_type": "code",
   "execution_count": 4,
   "metadata": {},
   "outputs": [
    {
     "data": {
      "image/png": "[encoded data removed]",
      "text/plain": [
       "<Figure size 500x300 with 1 Axes>"
      ]
     },
     "metadata": {},
     "output_type": "display_data"
    }
   ],
   "source": [
    "#x,y scatter\n",
    "palette = {'T': 'r', 'C': 'b'}\n",
    "sns.scatterplot(data=da, x='x', y='y', hue='f', palette=palette)\n",
    "plt.xlabel('x')\n",
    "plt.ylabel('y')\n",
    "plt.legend()\n",
    "plt.show()"
   ]
  },
  {
   "cell_type": "code",
   "execution_count": 9,
   "metadata": {},
   "outputs": [
    {
     "name": "stdout",
     "output_type": "stream",
     "text": [
      "                 Generalized Linear Model Regression Results                  \n",
      "==============================================================================\n",
      "Dep. Variable:      ['y', 'I(N - y)']   No. Observations:                  100\n",
      "Model:                            GLM   Df Residuals:                       97\n",
      "Model Family:                Binomial   Df Model:                            2\n",
      "Link Function:                  Logit   Scale:                          1.0000\n",
      "Method:                          IRLS   Log-Likelihood:                -133.11\n",
      "Date:                Sat, 01 Jun 2024   Deviance:                       123.03\n",
      "Time:                        17:55:37   Pearson chi2:                     109.\n",
      "No. Iterations:                     6   Pseudo R-squ. (CS):             0.9768\n",
      "Covariance Type:            nonrobust                                         \n",
      "==============================================================================\n",
      "                 coef    std err          z      P>|z|      [0.025      0.975]\n",
      "------------------------------------------------------------------------------\n",
      "Intercept    -19.5361      1.414    -13.818      0.000     -22.307     -16.765\n",
      "f[T.T]         2.0215      0.231      8.740      0.000       1.568       2.475\n",
      "x              1.9524      0.139     14.059      0.000       1.680       2.225\n",
      "==============================================================================\n"
     ]
    }
   ],
   "source": [
    "#glm\n",
    "#biominal\n",
    "glm = smf.glm('y + I(N-y) ~ x + f', data=da, family=sm.families.Binomial()).fit()\n",
    "print(glm.summary())"
   ]
  },
  {
   "cell_type": "code",
   "execution_count": 6,
   "metadata": {},
   "outputs": [
    {
     "name": "stdout",
     "output_type": "stream",
     "text": [
      "                 Generalized Linear Model Regression Results                  \n",
      "==============================================================================\n",
      "Dep. Variable:      ['y', 'I(8 - y)']   No. Observations:                  100\n",
      "Model:                            GLM   Df Residuals:                       96\n",
      "Model Family:                Binomial   Df Model:                            3\n",
      "Link Function:                  Logit   Scale:                          1.0000\n",
      "Method:                          IRLS   Log-Likelihood:                -132.81\n",
      "Date:                Sat, 01 Jun 2024   Deviance:                       122.43\n",
      "Time:                        17:55:29   Pearson chi2:                     109.\n",
      "No. Iterations:                     6   Pseudo R-squ. (CS):             0.9769\n",
      "Covariance Type:            nonrobust                                         \n",
      "==============================================================================\n",
      "                 coef    std err          z      P>|z|      [0.025      0.975]\n",
      "------------------------------------------------------------------------------\n",
      "Intercept    -18.5233      1.886     -9.821      0.000     -22.220     -14.827\n",
      "f[T.T]        -0.0638      2.704     -0.024      0.981      -5.363       5.235\n",
      "x              1.8525      0.186      9.983      0.000       1.489       2.216\n",
      "x:f[T.T]       0.2163      0.280      0.772      0.440      -0.333       0.765\n",
      "==============================================================================\n",
      "273.61059672597395\n"
     ]
    }
   ],
   "source": [
    "#glm\n",
    "model = smf.glm('y + I(8-y) ~ x * f', data=da, family=sm.families.Binomial()).fit()\n",
    "print(model.summary())\n",
    "print(model.aic)"
   ]
  },
  {
   "cell_type": "code",
   "execution_count": 7,
   "metadata": {},
   "outputs": [
    {
     "data": {
      "text/html": [
       "<div>\n",
       "<style scoped>\n",
       "    .dataframe tbody tr th:only-of-type {\n",
       "        vertical-align: middle;\n",
       "    }\n",
       "\n",
       "    .dataframe tbody tr th {\n",
       "        vertical-align: top;\n",
       "    }\n",
       "\n",
       "    .dataframe thead th {\n",
       "        text-align: right;\n",
       "    }\n",
       "</style>\n",
       "<table border=\"1\" class=\"dataframe\">\n",
       "  <thead>\n",
       "    <tr style=\"text-align: right;\">\n",
       "      <th></th>\n",
       "      <th>x</th>\n",
       "      <th>y</th>\n",
       "    </tr>\n",
       "  </thead>\n",
       "  <tbody>\n",
       "    <tr>\n",
       "      <th>0</th>\n",
       "      <td>0.001000</td>\n",
       "      <td>0.000887</td>\n",
       "    </tr>\n",
       "    <tr>\n",
       "      <th>1</th>\n",
       "      <td>0.017306</td>\n",
       "      <td>0.023465</td>\n",
       "    </tr>\n",
       "    <tr>\n",
       "      <th>2</th>\n",
       "      <td>0.033612</td>\n",
       "      <td>0.069876</td>\n",
       "    </tr>\n",
       "    <tr>\n",
       "      <th>3</th>\n",
       "      <td>0.049918</td>\n",
       "      <td>0.034340</td>\n",
       "    </tr>\n",
       "    <tr>\n",
       "      <th>4</th>\n",
       "      <td>0.066224</td>\n",
       "      <td>0.026520</td>\n",
       "    </tr>\n",
       "  </tbody>\n",
       "</table>\n",
       "</div>"
      ],
      "text/plain": [
       "          x         y\n",
       "0  0.001000  0.000887\n",
       "1  0.017306  0.023465\n",
       "2  0.033612  0.069876\n",
       "3  0.049918  0.034340\n",
       "4  0.066224  0.026520"
      ]
     },
     "execution_count": 7,
     "metadata": {},
     "output_type": "execute_result"
    }
   ],
   "source": [
    "data = {\n",
    "    \"x\": [0.00100000, 0.01730612, 0.03361224, 0.04991837, 0.06622449, 0.08253061, 0.09883673, 0.11514286, 0.13144898, 0.14775510, \n",
    "          0.16406122, 0.18036735, 0.19667347, 0.21297959, 0.22928571, 0.24559184, 0.26189796, 0.27820408, 0.29451020, 0.31081633, \n",
    "          0.32712245, 0.34342857, 0.35973469, 0.37604082, 0.39234694, 0.40865306, 0.42495918, 0.44126531, 0.45757143, 0.47387755, \n",
    "          0.49018367, 0.50648980, 0.52279592, 0.53910204, 0.55540816, 0.57171429, 0.58802041, 0.60432653, 0.62063265, 0.63693878, \n",
    "          0.65324490, 0.66955102, 0.68585714, 0.70216327, 0.71846939, 0.73477551, 0.75108163, 0.76738776, 0.78369388, 0.80000000],\n",
    "    \"y\": [0.0008873584, 0.0234652087, 0.0698755633, 0.0343402528, 0.0265204047, 0.1592148027, 0.1650783893, 0.1240028738, \n",
    "          0.0596455047, 0.0552452656, 0.1922147499, 0.0305346235, 0.1050614252, 0.0762759220, 0.1524998027, 0.0564525639, \n",
    "          0.0959048838, 0.1194826880, 0.0379757879, 0.1923054736, 0.1833032150, 0.0949801840, 0.0912946482, 0.1452412815, \n",
    "          0.1090217347, 0.2394445515, 0.1933050241, 0.2026793230, 0.2090867442, 0.2804643819, 0.3679867385, 0.1539352560, \n",
    "          0.1653358407, 0.2970396128, 0.3508910552, 0.1824436007, 0.1344558643, 0.4186216605, 0.3261179044, 0.0558967727, \n",
    "          0.2488526264, 0.4834364850, 0.1486623573, 0.0416329786, 0.6145356400, 0.1978335852, 0.1915292152, 0.3220098859, \n",
    "          0.4539202940, 0.1788958933]\n",
    "}\n",
    "df = pd.DataFrame(data)\n",
    "df.head()"
   ]
  },
  {
   "cell_type": "code",
   "execution_count": 8,
   "metadata": {},
   "outputs": [
    {
     "name": "stderr",
     "output_type": "stream",
     "text": [
      "/Users/sa2007/anaconda3/lib/python3.11/site-packages/statsmodels/genmod/families/links.py:13: FutureWarning: The log link alias is deprecated. Use Log instead. The log link alias will be removed after the 0.15.0 release.\n",
      "  warnings.warn(\n"
     ]
    },
    {
     "name": "stdout",
     "output_type": "stream",
     "text": [
      "                 Generalized Linear Model Regression Results                  \n",
      "==============================================================================\n",
      "Dep. Variable:                      y   No. Observations:                   50\n",
      "Model:                            GLM   Df Residuals:                       48\n",
      "Model Family:                   Gamma   Df Model:                            1\n",
      "Link Function:                    log   Scale:                         0.32508\n",
      "Method:                          IRLS   Log-Likelihood:                 58.471\n",
      "Date:                Sat, 01 Jun 2024   Deviance:                       17.251\n",
      "Time:                        17:55:29   Pearson chi2:                     15.6\n",
      "No. Iterations:                    18   Pseudo R-squ. (CS):             0.6720\n",
      "Covariance Type:            nonrobust                                         \n",
      "==============================================================================\n",
      "                 coef    std err          z      P>|z|      [0.025      0.975]\n",
      "------------------------------------------------------------------------------\n",
      "Intercept     -1.0403      0.119     -8.759      0.000      -1.273      -0.808\n",
      "np.log(x)      0.6832      0.068      9.992      0.000       0.549       0.817\n",
      "==============================================================================\n"
     ]
    }
   ],
   "source": [
    "model = smf.glm(formula='y ~ np.log(x)', data=df, family=sm.families.Gamma(link=sm.families.links.log()))\n",
    "model = model.fit()\n",
    "print(model.summary())"
   ]
  }
 ],
 "metadata": {
  "kernelspec": {
   "display_name": "base",
   "language": "python",
   "name": "python3"
  },
  "language_info": {
   "codemirror_mode": {
    "name": "ipython",
    "version": 3
   },
   "file_extension": ".py",
   "mimetype": "text/x-python",
   "name": "python",
   "nbconvert_exporter": "python",
   "pygments_lexer": "ipython3",
   "version": "3.11.5"
  }
 },
 "nbformat": 4,
 "nbformat_minor": 2
}
