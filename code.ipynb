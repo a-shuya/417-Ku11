{
 "cells": [
  {
   "cell_type": "code",
   "execution_count": 10,
   "metadata": {},
   "outputs": [
    {
     "name": "stderr",
     "output_type": "stream",
     "text": [
      "/var/folders/5h/w_ddszcj1b9581y293ys2dw40000gn/T/ipykernel_37163/1855272890.py:14: MatplotlibDeprecationWarning: The seaborn styles shipped by Matplotlib are deprecated since 3.6, as they no longer correspond to the styles shipped by seaborn. However, they will remain available as 'seaborn-v0_8-<style>'. Alternatively, directly use the seaborn API instead.\n",
      "  plt.style.use('seaborn-white')\n"
     ]
    }
   ],
   "source": [
    "import numpy as np\n",
    "import pandas as pd\n",
    "import matplotlib.pyplot as plt\n",
    "import seaborn as sns\n",
    "from scipy.special import factorial\n",
    "from scipy.stats import poisson\n",
    "from scipy.stats import chi2\n",
    "import statsmodels.api as sm\n",
    "import statsmodels.formula.api as smf\n",
    "from statsmodels.tools import add_constant\n",
    "from sklearn.linear_model import LogisticRegression\n",
    "from sklearn.metrics import log_loss\n",
    "%matplotlib inline\n",
    "plt.style.use('seaborn-white')\n",
    "plt.rcParams['figure.figsize'] = (5,3)"
   ]
  },
  {
   "cell_type": "code",
   "execution_count": 11,
   "metadata": {},
   "outputs": [
    {
     "data": {
      "image/png": "[encoded data removed]",
      "text/plain": [
       "<Figure size 500x300 with 1 Axes>"
      ]
     },
     "metadata": {},
     "output_type": "display_data"
    },
    {
     "name": "stdout",
     "output_type": "stream",
     "text": [
      "10.88\n",
      "27.373061224489796\n"
     ]
    }
   ],
   "source": [
    "d = [0, 3, 2, 5, 6, 16, 8, 14, 11, 10, 17, 19, 14, 19, 19, 18, 15, 13, 13, 9, 11, 15, 18, 12, 11, 17, 14, 16, 15, 9, 6, 15, 10, 11, 14, 7, 14, 14, 13, 17, 8, 7, 10, 4, 5, 5, 7, 4, 3, 1]\n",
    "#データフレームに変換\n",
    "df = pd.DataFrame(d, columns=['y'])\n",
    "sns.scatterplot(data=df, x=df.index, y='y')\n",
    "plt.show()\n",
    "print(df.y.mean())\n",
    "print(df.y.var())"
   ]
  },
  {
   "cell_type": "code",
   "execution_count": 24,
   "metadata": {},
   "outputs": [
    {
     "name": "stdout",
     "output_type": "stream",
     "text": [
      "Requirement already satisfied: pymc in /Users/sa2007/anaconda3/lib/python3.11/site-packages (5.15.1)\n",
      "Requirement already satisfied: arviz>=0.13.0 in /Users/sa2007/anaconda3/lib/python3.11/site-packages (from pymc) (0.18.0)\n",
      "Requirement already satisfied: cachetools>=4.2.1 in /Users/sa2007/anaconda3/lib/python3.11/site-packages (from pymc) (5.3.2)\n",
      "Requirement already satisfied: cloudpickle in /Users/sa2007/anaconda3/lib/python3.11/site-packages (from pymc) (2.2.1)\n",
      "Requirement already satisfied: numpy>=1.15.0 in /Users/sa2007/anaconda3/lib/python3.11/site-packages (from pymc) (1.24.3)\n",
      "Requirement already satisfied: pandas>=0.24.0 in /Users/sa2007/anaconda3/lib/python3.11/site-packages (from pymc) (2.0.3)\n",
      "Requirement already satisfied: pytensor<2.23,>=2.22.1 in /Users/sa2007/anaconda3/lib/python3.11/site-packages (from pymc) (2.22.1)\n",
      "Requirement already satisfied: rich>=13.7.1 in /Users/sa2007/anaconda3/lib/python3.11/site-packages (from pymc) (13.7.1)\n",
      "Requirement already satisfied: scipy>=1.4.1 in /Users/sa2007/anaconda3/lib/python3.11/site-packages (from pymc) (1.11.1)\n",
      "Requirement already satisfied: threadpoolctl<4.0.0,>=3.1.0 in /Users/sa2007/anaconda3/lib/python3.11/site-packages (from pymc) (3.5.0)\n",
      "Requirement already satisfied: typing-extensions>=3.7.4 in /Users/sa2007/anaconda3/lib/python3.11/site-packages (from pymc) (4.11.0)\n",
      "Requirement already satisfied: setuptools>=60.0.0 in /Users/sa2007/anaconda3/lib/python3.11/site-packages (from arviz>=0.13.0->pymc) (68.0.0)\n",
      "Requirement already satisfied: matplotlib>=3.5 in /Users/sa2007/anaconda3/lib/python3.11/site-packages (from arviz>=0.13.0->pymc) (3.7.2)\n",
      "Requirement already satisfied: packaging in /Users/sa2007/anaconda3/lib/python3.11/site-packages (from arviz>=0.13.0->pymc) (23.1)\n",
      "Requirement already satisfied: dm-tree>=0.1.8 in /Users/sa2007/anaconda3/lib/python3.11/site-packages (from arviz>=0.13.0->pymc) (0.1.8)\n",
      "Requirement already satisfied: xarray>=2022.6.0 in /Users/sa2007/anaconda3/lib/python3.11/site-packages (from arviz>=0.13.0->pymc) (2023.6.0)\n",
      "Requirement already satisfied: h5netcdf>=1.0.2 in /Users/sa2007/anaconda3/lib/python3.11/site-packages (from arviz>=0.13.0->pymc) (1.3.0)\n",
      "Requirement already satisfied: xarray-einstats>=0.3 in /Users/sa2007/anaconda3/lib/python3.11/site-packages (from arviz>=0.13.0->pymc) (0.7.0)\n",
      "Requirement already satisfied: python-dateutil>=2.8.2 in /Users/sa2007/anaconda3/lib/python3.11/site-packages (from pandas>=0.24.0->pymc) (2.8.2)\n",
      "Requirement already satisfied: pytz>=2020.1 in /Users/sa2007/anaconda3/lib/python3.11/site-packages (from pandas>=0.24.0->pymc) (2023.3.post1)\n",
      "Requirement already satisfied: tzdata>=2022.1 in /Users/sa2007/anaconda3/lib/python3.11/site-packages (from pandas>=0.24.0->pymc) (2023.3)\n",
      "Requirement already satisfied: filelock in /Users/sa2007/anaconda3/lib/python3.11/site-packages (from pytensor<2.23,>=2.22.1->pymc) (3.9.0)\n",
      "Requirement already satisfied: etuples in /Users/sa2007/anaconda3/lib/python3.11/site-packages (from pytensor<2.23,>=2.22.1->pymc) (0.3.9)\n",
      "Requirement already satisfied: logical-unification in /Users/sa2007/anaconda3/lib/python3.11/site-packages (from pytensor<2.23,>=2.22.1->pymc) (0.4.6)\n",
      "Requirement already satisfied: miniKanren in /Users/sa2007/anaconda3/lib/python3.11/site-packages (from pytensor<2.23,>=2.22.1->pymc) (1.0.3)\n",
      "Requirement already satisfied: cons in /Users/sa2007/anaconda3/lib/python3.11/site-packages (from pytensor<2.23,>=2.22.1->pymc) (0.4.6)\n",
      "Requirement already satisfied: markdown-it-py>=2.2.0 in /Users/sa2007/anaconda3/lib/python3.11/site-packages (from rich>=13.7.1->pymc) (2.2.0)\n",
      "Requirement already satisfied: pygments<3.0.0,>=2.13.0 in /Users/sa2007/anaconda3/lib/python3.11/site-packages (from rich>=13.7.1->pymc) (2.15.1)\n",
      "Requirement already satisfied: h5py in /Users/sa2007/anaconda3/lib/python3.11/site-packages (from h5netcdf>=1.0.2->arviz>=0.13.0->pymc) (3.9.0)\n",
      "Requirement already satisfied: mdurl~=0.1 in /Users/sa2007/anaconda3/lib/python3.11/site-packages (from markdown-it-py>=2.2.0->rich>=13.7.1->pymc) (0.1.0)\n",
      "Requirement already satisfied: contourpy>=1.0.1 in /Users/sa2007/anaconda3/lib/python3.11/site-packages (from matplotlib>=3.5->arviz>=0.13.0->pymc) (1.0.5)\n",
      "Requirement already satisfied: cycler>=0.10 in /Users/sa2007/anaconda3/lib/python3.11/site-packages (from matplotlib>=3.5->arviz>=0.13.0->pymc) (0.11.0)\n",
      "Requirement already satisfied: fonttools>=4.22.0 in /Users/sa2007/anaconda3/lib/python3.11/site-packages (from matplotlib>=3.5->arviz>=0.13.0->pymc) (4.25.0)\n",
      "Requirement already satisfied: kiwisolver>=1.0.1 in /Users/sa2007/anaconda3/lib/python3.11/site-packages (from matplotlib>=3.5->arviz>=0.13.0->pymc) (1.4.4)\n",
      "Requirement already satisfied: pillow>=6.2.0 in /Users/sa2007/anaconda3/lib/python3.11/site-packages (from matplotlib>=3.5->arviz>=0.13.0->pymc) (10.2.0)\n",
      "Requirement already satisfied: pyparsing<3.1,>=2.3.1 in /Users/sa2007/anaconda3/lib/python3.11/site-packages (from matplotlib>=3.5->arviz>=0.13.0->pymc) (3.0.9)\n",
      "Requirement already satisfied: six>=1.5 in /Users/sa2007/anaconda3/lib/python3.11/site-packages (from python-dateutil>=2.8.2->pandas>=0.24.0->pymc) (1.16.0)\n",
      "Requirement already satisfied: toolz in /Users/sa2007/anaconda3/lib/python3.11/site-packages (from logical-unification->pytensor<2.23,>=2.22.1->pymc) (0.12.0)\n",
      "Requirement already satisfied: multipledispatch in /Users/sa2007/anaconda3/lib/python3.11/site-packages (from logical-unification->pytensor<2.23,>=2.22.1->pymc) (0.6.0)\n"
     ]
    },
    {
     "ename": "AttributeError",
     "evalue": "partially initialized module 'theano' has no attribute 'compile' (most likely due to a circular import)",
     "output_type": "error",
     "traceback": [
      "\u001b[0;31m---------------------------------------------------------------------------\u001b[0m",
      "\u001b[0;31mAttributeError\u001b[0m                            Traceback (most recent call last)",
      "Cell \u001b[0;32mIn[24], line 4\u001b[0m\n\u001b[1;32m      2\u001b[0m \u001b[38;5;28;01mimport\u001b[39;00m \u001b[38;5;21;01mpymc\u001b[39;00m \u001b[38;5;28;01mas\u001b[39;00m \u001b[38;5;21;01mpm\u001b[39;00m\n\u001b[1;32m      3\u001b[0m \u001b[38;5;28;01mimport\u001b[39;00m \u001b[38;5;21;01marviz\u001b[39;00m \u001b[38;5;28;01mas\u001b[39;00m \u001b[38;5;21;01maz\u001b[39;00m\n\u001b[0;32m----> 4\u001b[0m \u001b[38;5;28;01mimport\u001b[39;00m \u001b[38;5;21;01mtheano\u001b[39;00m\u001b[38;5;21;01m.\u001b[39;00m\u001b[38;5;21;01mtensor\u001b[39;00m \u001b[38;5;28;01mas\u001b[39;00m \u001b[38;5;21;01mtt\u001b[39;00m\n\u001b[1;32m      5\u001b[0m \u001b[38;5;28;01mfrom\u001b[39;00m \u001b[38;5;21;01mpymc\u001b[39;00m\u001b[38;5;21;01m.\u001b[39;00m\u001b[38;5;21;01mdistributions\u001b[39;00m \u001b[38;5;28;01mimport\u001b[39;00m continuous\n",
      "File \u001b[0;32m~/anaconda3/lib/python3.11/site-packages/theano/__init__.py:83\u001b[0m\n\u001b[1;32m     75\u001b[0m \u001b[38;5;66;03m# This is the api version for ops that generate C code.  External ops\u001b[39;00m\n\u001b[1;32m     76\u001b[0m \u001b[38;5;66;03m# might need manual changes if this number goes up.  An undefined\u001b[39;00m\n\u001b[1;32m     77\u001b[0m \u001b[38;5;66;03m# __api_version__ can be understood to mean api version 0.\u001b[39;00m\n\u001b[1;32m     78\u001b[0m \u001b[38;5;66;03m#\u001b[39;00m\n\u001b[1;32m     79\u001b[0m \u001b[38;5;66;03m# This number is not tied to the release version and should change\u001b[39;00m\n\u001b[1;32m     80\u001b[0m \u001b[38;5;66;03m# very rarely.\u001b[39;00m\n\u001b[1;32m     81\u001b[0m __api_version__ \u001b[38;5;241m=\u001b[39m \u001b[38;5;241m1\u001b[39m\n\u001b[0;32m---> 83\u001b[0m \u001b[38;5;28;01mfrom\u001b[39;00m \u001b[38;5;21;01mtheano\u001b[39;00m \u001b[38;5;28;01mimport\u001b[39;00m scalar, tensor\n\u001b[1;32m     84\u001b[0m \u001b[38;5;28;01mfrom\u001b[39;00m \u001b[38;5;21;01mtheano\u001b[39;00m\u001b[38;5;21;01m.\u001b[39;00m\u001b[38;5;21;01mcompile\u001b[39;00m \u001b[38;5;28;01mimport\u001b[39;00m (\n\u001b[1;32m     85\u001b[0m     In,\n\u001b[1;32m     86\u001b[0m     Mode,\n\u001b[0;32m   (...)\u001b[0m\n\u001b[1;32m     93\u001b[0m     shared,\n\u001b[1;32m     94\u001b[0m )\n\u001b[1;32m     95\u001b[0m \u001b[38;5;28;01mfrom\u001b[39;00m \u001b[38;5;21;01mtheano\u001b[39;00m\u001b[38;5;21;01m.\u001b[39;00m\u001b[38;5;21;01mcompile\u001b[39;00m\u001b[38;5;21;01m.\u001b[39;00m\u001b[38;5;21;01mfunction\u001b[39;00m \u001b[38;5;28;01mimport\u001b[39;00m function, function_dump\n",
      "File \u001b[0;32m~/anaconda3/lib/python3.11/site-packages/theano/scalar/__init__.py:1\u001b[0m\n\u001b[0;32m----> 1\u001b[0m \u001b[38;5;28;01mfrom\u001b[39;00m \u001b[38;5;21;01m.\u001b[39;00m\u001b[38;5;21;01mbasic\u001b[39;00m \u001b[38;5;28;01mimport\u001b[39;00m \u001b[38;5;241m*\u001b[39m\n\u001b[1;32m      2\u001b[0m \u001b[38;5;28;01mfrom\u001b[39;00m \u001b[38;5;21;01m.\u001b[39;00m\u001b[38;5;21;01mbasic_scipy\u001b[39;00m \u001b[38;5;28;01mimport\u001b[39;00m \u001b[38;5;241m*\u001b[39m\n",
      "File \u001b[0;32m~/anaconda3/lib/python3.11/site-packages/theano/scalar/basic.py:710\u001b[0m\n\u001b[1;32m    706\u001b[0m         \u001b[38;5;28;01mreturn\u001b[39;00m shape_info\n\u001b[1;32m    709\u001b[0m \u001b[38;5;66;03m# Register C code for ViewOp on Scalars.\u001b[39;00m\n\u001b[0;32m--> 710\u001b[0m theano\u001b[38;5;241m.\u001b[39mcompile\u001b[38;5;241m.\u001b[39mregister_view_op_c_code(\n\u001b[1;32m    711\u001b[0m     Scalar,\n\u001b[1;32m    712\u001b[0m \u001b[38;5;250m    \u001b[39m\u001b[38;5;124;03m\"\"\"\u001b[39;00m\n\u001b[1;32m    713\u001b[0m \u001b[38;5;124;03m    %(oname)s = %(iname)s;\u001b[39;00m\n\u001b[1;32m    714\u001b[0m \u001b[38;5;124;03m    \"\"\"\u001b[39;00m,\n\u001b[1;32m    715\u001b[0m     \u001b[38;5;241m1\u001b[39m,\n\u001b[1;32m    716\u001b[0m )\n\u001b[1;32m    719\u001b[0m \u001b[38;5;28mbool\u001b[39m \u001b[38;5;241m=\u001b[39m get_scalar_type(\u001b[38;5;124m\"\u001b[39m\u001b[38;5;124mbool\u001b[39m\u001b[38;5;124m\"\u001b[39m)\n\u001b[1;32m    720\u001b[0m int8 \u001b[38;5;241m=\u001b[39m get_scalar_type(\u001b[38;5;124m\"\u001b[39m\u001b[38;5;124mint8\u001b[39m\u001b[38;5;124m\"\u001b[39m)\n",
      "\u001b[0;31mAttributeError\u001b[0m: partially initialized module 'theano' has no attribute 'compile' (most likely due to a circular import)"
     ]
    }
   ],
   "source": [
    "!pip install pymc\n",
    "import pymc as pm\n",
    "import arviz as az\n",
    "import theano.tensor as tt\n",
    "from pymc.distributions import continuous"
   ]
  },
  {
   "cell_type": "code",
   "execution_count": 16,
   "metadata": {},
   "outputs": [
    {
     "name": "stdout",
     "output_type": "stream",
     "text": [
      "[[0. 1. 0. ... 0. 0. 0.]\n",
      " [1. 0. 1. ... 0. 0. 0.]\n",
      " [0. 1. 0. ... 0. 0. 0.]\n",
      " ...\n",
      " [0. 0. 0. ... 0. 1. 0.]\n",
      " [0. 0. 0. ... 1. 0. 1.]\n",
      " [0. 0. 0. ... 0. 1. 0.]]\n"
     ]
    }
   ],
   "source": [
    "n = len(df)\n",
    "W = np.zeros((n,n))\n",
    "for i in range(n):\n",
    "    if i>0:\n",
    "        W[i,i-1] = 1\n",
    "    if i<n-1:\n",
    "        W[i,i+1] = 1\n",
    "A = W.copy()\n",
    "print(W)"
   ]
  },
  {
   "cell_type": "code",
   "execution_count": 19,
   "metadata": {},
   "outputs": [],
   "source": [
    "class CAR2(continuous.Continuous):\n",
    "    def __init__(self, W, tau, *args, **kwargs):\n",
    "        super(CAR2, self).__init__(*args, **kwargs)\n",
    "        self.a = tt.as_tensor_variable(a)\n",
    "        self.W = tt.as_tensor_variable(W)\n",
    "        self.tau = tau * tt.sum(W, axis=1)\n",
    "        self.mode = 0.\n",
    "    \n",
    "    def logp(self, x):\n",
    "        tau = self.tau\n",
    "        W = self.W\n",
    "        a = self.a\n",
    "        mu_w = tt.sum(x*a, axis=1)"
   ]
  }
 ],
 "metadata": {
  "kernelspec": {
   "display_name": "base",
   "language": "python",
   "name": "python3"
  },
  "language_info": {
   "codemirror_mode": {
    "name": "ipython",
    "version": 3
   },
   "file_extension": ".py",
   "mimetype": "text/x-python",
   "name": "python",
   "nbconvert_exporter": "python",
   "pygments_lexer": "ipython3",
   "version": "3.11.5"
  }
 },
 "nbformat": 4,
 "nbformat_minor": 2
}
