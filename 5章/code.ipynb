{
 "cells": [
  {
   "cell_type": "code",
   "execution_count": 38,
   "metadata": {},
   "outputs": [
    {
     "name": "stderr",
     "output_type": "stream",
     "text": [
      "/var/folders/5h/w_ddszcj1b9581y293ys2dw40000gn/T/ipykernel_62538/4006067650.py:11: MatplotlibDeprecationWarning: The seaborn styles shipped by Matplotlib are deprecated since 3.6, as they no longer correspond to the styles shipped by seaborn. However, they will remain available as 'seaborn-v0_8-<style>'. Alternatively, directly use the seaborn API instead.\n",
      "  plt.style.use('seaborn-white')\n"
     ]
    }
   ],
   "source": [
    "import numpy as np\n",
    "import pandas as pd\n",
    "import matplotlib.pyplot as plt\n",
    "import seaborn as sns\n",
    "from scipy.special import factorial\n",
    "from scipy.stats import poisson\n",
    "from scipy.stats import chi2\n",
    "import statsmodels.api as sm\n",
    "import statsmodels.formula.api as smf\n",
    "%matplotlib inline\n",
    "plt.style.use('seaborn-white')\n",
    "plt.rcParams['figure.figsize'] = (5,3)"
   ]
  },
  {
   "cell_type": "code",
   "execution_count": 32,
   "metadata": {},
   "outputs": [
    {
     "name": "stdout",
     "output_type": "stream",
     "text": [
      "                 Generalized Linear Model Regression Results                  \n",
      "==============================================================================\n",
      "Dep. Variable:                      y   No. Observations:                  100\n",
      "Model:                            GLM   Df Residuals:                       98\n",
      "Model Family:                 Poisson   Df Model:                            1\n",
      "Link Function:                    Log   Scale:                          1.0000\n",
      "Method:                          IRLS   Log-Likelihood:                -235.39\n",
      "Date:                Thu, 30 May 2024   Deviance:                       84.993\n",
      "Time:                        14:35:27   Pearson chi2:                     83.8\n",
      "No. Iterations:                     4   Pseudo R-squ. (CS):            0.04414\n",
      "Covariance Type:            nonrobust                                         \n",
      "==============================================================================\n",
      "                 coef    std err          z      P>|z|      [0.025      0.975]\n",
      "------------------------------------------------------------------------------\n",
      "Intercept      1.2917      0.364      3.552      0.000       0.579       2.005\n",
      "x              0.0757      0.036      2.125      0.034       0.006       0.145\n",
      "==============================================================================\n",
      "                 Generalized Linear Model Regression Results                  \n",
      "==============================================================================\n",
      "Dep. Variable:                      y   No. Observations:                  100\n",
      "Model:                            GLM   Df Residuals:                       99\n",
      "Model Family:                 Poisson   Df Model:                            0\n",
      "Link Function:                    Log   Scale:                          1.0000\n",
      "Method:                          IRLS   Log-Likelihood:                -237.64\n",
      "Date:                Thu, 30 May 2024   Deviance:                       89.507\n",
      "Time:                        14:35:27   Pearson chi2:                     87.1\n",
      "No. Iterations:                     4   Pseudo R-squ. (CS):         -3.997e-15\n",
      "Covariance Type:            nonrobust                                         \n",
      "==============================================================================\n",
      "                 coef    std err          z      P>|z|      [0.025      0.975]\n",
      "------------------------------------------------------------------------------\n",
      "Intercept      2.0580      0.036     57.586      0.000       1.988       2.128\n",
      "==============================================================================\n"
     ]
    }
   ],
   "source": [
    "d = pd.read_csv('Data3a.csv')\n",
    "model_x = smf.glm('y ~ x', data=d, family=sm.families.Poisson()).fit()\n",
    "model_const = smf.glm('y ~ 1', data=d, family=sm.families.Poisson()).fit()\n",
    "print(model_x.summary())\n",
    "print(model_const.summary())"
   ]
  },
  {
   "cell_type": "code",
   "execution_count": 33,
   "metadata": {},
   "outputs": [
    {
     "name": "stdout",
     "output_type": "stream",
     "text": [
      "4.513941078851744\n"
     ]
    }
   ],
   "source": [
    "#devianceの差\n",
    "deviance_diff = model_const.deviance - model_x.deviance\n",
    "print(deviance_diff)"
   ]
  },
  {
   "cell_type": "code",
   "execution_count": 34,
   "metadata": {},
   "outputs": [
    {
     "name": "stdout",
     "output_type": "stream",
     "text": [
      "0.03618555952989766\n"
     ]
    }
   ],
   "source": [
    "#model_constのinterceptをexpして平均値を求める\n",
    "mean_const = np.exp(model_const.params['Intercept'])\n",
    "#mean_constを使ってpoisson分布を１00個サンプリング\n",
    "y_rnd = np.random.poisson(mean_const, 100)\n",
    "#dにy_rndを追加\n",
    "d['y_rnd'] = y_rnd\n",
    "#glm\n",
    "model_rnd_const = smf.glm('y_rnd ~ 1', data=d, family=sm.families.Poisson()).fit()\n",
    "model_rnd_x = smf.glm('y_rnd ~ x', data=d, family=sm.families.Poisson()).fit()\n",
    "#devianceの差\n",
    "deviance_diff_rnd = model_rnd_const.deviance - model_rnd_x.deviance\n",
    "print(deviance_diff_rnd)"
   ]
  },
  {
   "cell_type": "code",
   "execution_count": 35,
   "metadata": {},
   "outputs": [],
   "source": [
    "#上のセルを1000回繰り返す\n",
    "deviance_diffs = []\n",
    "model_const = smf.glm('y ~ 1', data=d, family=sm.families.Poisson()).fit()\n",
    "mean_const = np.exp(model_const.params['Intercept'])\n",
    "\n",
    "for _ in range(1000):\n",
    "    y_rnd = np.random.poisson(mean_const, 100)\n",
    "    d['y_rnd'] = y_rnd\n",
    "    model_rnd_const = smf.glm('y_rnd ~ 1', data=d, family=sm.families.Poisson()).fit()\n",
    "    model_rnd_x = smf.glm('y_rnd ~ x', data=d, family=sm.families.Poisson()).fit()\n",
    "    deviance_diff2 = model_rnd_const.deviance - model_rnd_x.deviance\n",
    "    deviance_diffs.append(deviance_diff2)"
   ]
  },
  {
   "cell_type": "code",
   "execution_count": 36,
   "metadata": {},
   "outputs": [
    {
     "data": {
      "text/plain": [
       "(array([602., 166., 107.,  41.,  32.,  18.,  12.,   4.,   4.,   2.,   1.,\n",
       "          1.,   2.,   3.,   2.,   0.,   1.,   1.,   0.,   1.]),\n",
       " array([1.14664488e-07, 7.07912493e-01, 1.41582487e+00, 2.12373725e+00,\n",
       "        2.83164963e+00, 3.53956201e+00, 4.24747438e+00, 4.95538676e+00,\n",
       "        5.66329914e+00, 6.37121152e+00, 7.07912390e+00, 7.78703627e+00,\n",
       "        8.49494865e+00, 9.20286103e+00, 9.91077341e+00, 1.06186858e+01,\n",
       "        1.13265982e+01, 1.20345105e+01, 1.27424229e+01, 1.34503353e+01,\n",
       "        1.41582477e+01]),\n",
       " <BarContainer object of 20 artists>)"
      ]
     },
     "execution_count": 36,
     "metadata": {},
     "output_type": "execute_result"
    },
    {
     "data": {
      "image/png": "[encoded data removed]",
      "text/plain": [
       "<Figure size 500x300 with 1 Axes>"
      ]
     },
     "metadata": {},
     "output_type": "display_data"
    }
   ],
   "source": [
    "plt.hist(deviance_diffs, color='white', edgecolor='black', bins=20)"
   ]
  },
  {
   "cell_type": "code",
   "execution_count": 37,
   "metadata": {},
   "outputs": [
    {
     "name": "stdout",
     "output_type": "stream",
     "text": [
      "29\n"
     ]
    }
   ],
   "source": [
    "#deviance_diffsの中でdeviance_diffより大きいものの個数\n",
    "print(sum(np.array(deviance_diffs) > deviance_diff))"
   ]
  },
  {
   "cell_type": "code",
   "execution_count": 41,
   "metadata": {},
   "outputs": [
    {
     "name": "stdout",
     "output_type": "stream",
     "text": [
      "Deviance Difference: 4.513941078851744, DF: 1, P-Value: 0.03361969100898695\n"
     ]
    }
   ],
   "source": [
    "#model_const,model_xにanovaを適用\n",
    "deviance_diff = model_const.deviance - model_x.deviance\n",
    "df_diff = model_const.df_resid - model_x.df_resid\n",
    "p_value = chi2.sf(deviance_diff, df_diff)\n",
    "print(f'Deviance Difference: {deviance_diff}, DF: {df_diff}, P-Value: {p_value}')"
   ]
  }
 ],
 "metadata": {
  "kernelspec": {
   "display_name": "base",
   "language": "python",
   "name": "python3"
  },
  "language_info": {
   "codemirror_mode": {
    "name": "ipython",
    "version": 3
   },
   "file_extension": ".py",
   "mimetype": "text/x-python",
   "name": "python",
   "nbconvert_exporter": "python",
   "pygments_lexer": "ipython3",
   "version": "3.11.5"
  }
 },
 "nbformat": 4,
 "nbformat_minor": 2
}
