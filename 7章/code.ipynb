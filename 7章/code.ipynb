{
 "cells": [
  {
   "cell_type": "code",
   "execution_count": 21,
   "metadata": {},
   "outputs": [
    {
     "name": "stderr",
     "output_type": "stream",
     "text": [
      "/var/folders/5h/w_ddszcj1b9581y293ys2dw40000gn/T/ipykernel_3132/1855272890.py:14: MatplotlibDeprecationWarning: The seaborn styles shipped by Matplotlib are deprecated since 3.6, as they no longer correspond to the styles shipped by seaborn. However, they will remain available as 'seaborn-v0_8-<style>'. Alternatively, directly use the seaborn API instead.\n",
      "  plt.style.use('seaborn-white')\n"
     ]
    }
   ],
   "source": [
    "import numpy as np\n",
    "import pandas as pd\n",
    "import matplotlib.pyplot as plt\n",
    "import seaborn as sns\n",
    "from scipy.special import factorial\n",
    "from scipy.stats import poisson\n",
    "from scipy.stats import chi2\n",
    "import statsmodels.api as sm\n",
    "import statsmodels.formula.api as smf\n",
    "from statsmodels.tools import add_constant\n",
    "from sklearn.linear_model import LogisticRegression\n",
    "from sklearn.metrics import log_loss\n",
    "%matplotlib inline\n",
    "plt.style.use('seaborn-white')\n",
    "plt.rcParams['figure.figsize'] = (5,3)"
   ]
  },
  {
   "cell_type": "code",
   "execution_count": 22,
   "metadata": {},
   "outputs": [
    {
     "name": "stdout",
     "output_type": "stream",
     "text": [
      "           N           y           x          id\n",
      "count  100.0  100.000000  100.000000  100.000000\n",
      "mean     8.0    3.810000    4.000000   50.500000\n",
      "std      0.0    3.070534    1.421338   29.011492\n",
      "min      8.0    0.000000    2.000000    1.000000\n",
      "25%      8.0    1.000000    3.000000   25.750000\n",
      "50%      8.0    3.000000    4.000000   50.500000\n",
      "75%      8.0    7.000000    5.000000   75.250000\n",
      "max      8.0    8.000000    6.000000  100.000000\n",
      "   N  y  x  id\n",
      "0  8  0  2   1\n",
      "1  8  1  2   2\n",
      "2  8  2  2   3\n",
      "3  8  4  2   4\n",
      "4  8  1  2   5\n"
     ]
    }
   ],
   "source": [
    "d = pd.read_csv('Ecology Data.csv')\n",
    "print(d.describe())\n",
    "print(d.head())"
   ]
  },
  {
   "cell_type": "code",
   "execution_count": 23,
   "metadata": {},
   "outputs": [
    {
     "name": "stdout",
     "output_type": "stream",
     "text": [
      "                 Generalized Linear Model Regression Results                  \n",
      "==============================================================================\n",
      "Dep. Variable:      ['y', 'I(N - y)']   No. Observations:                  100\n",
      "Model:                            GLM   Df Residuals:                       98\n",
      "Model Family:                Binomial   Df Model:                            1\n",
      "Link Function:                  Logit   Scale:                          1.0000\n",
      "Method:                          IRLS   Log-Likelihood:                -322.80\n",
      "Date:                Tue, 04 Jun 2024   Deviance:                       513.84\n",
      "Time:                        23:31:16   Pearson chi2:                     428.\n",
      "No. Iterations:                     4   Pseudo R-squ. (CS):             0.6078\n",
      "Covariance Type:            nonrobust                                         \n",
      "==============================================================================\n",
      "                 coef    std err          z      P>|z|      [0.025      0.975]\n",
      "------------------------------------------------------------------------------\n",
      "Intercept     -2.1487      0.237     -9.057      0.000      -2.614      -1.684\n",
      "x              0.5104      0.056      9.179      0.000       0.401       0.619\n",
      "==============================================================================\n"
     ]
    }
   ],
   "source": [
    "#glm\n",
    "model = smf.glm('y + I(N-y) ~ x', data=d, family=sm.families.Binomial()).fit()\n",
    "print(model.summary())"
   ]
  },
  {
   "cell_type": "code",
   "execution_count": 24,
   "metadata": {},
   "outputs": [
    {
     "name": "stdout",
     "output_type": "stream",
     "text": [
      "4.05\n",
      "8.365789473684211\n"
     ]
    }
   ],
   "source": [
    "#dのx=4のデータフレームを作成\n",
    "d4 = d[d['x']==4]\n",
    "#d4のyの平均と分散\n",
    "print(d4['y'].mean())\n",
    "print(d4['y'].var())"
   ]
  },
  {
   "cell_type": "code",
   "execution_count": 36,
   "metadata": {},
   "outputs": [
    {
     "name": "stdout",
     "output_type": "stream",
     "text": [
      "Collecting pyper\n",
      "  Downloading PypeR-1.1.2.tar.gz (15 kB)\n",
      "  Preparing metadata (setup.py) ... \u001b[?25ldone\n",
      "\u001b[?25hBuilding wheels for collected packages: pyper\n",
      "  Building wheel for pyper (setup.py) ... \u001b[?25ldone\n",
      "\u001b[?25h  Created wheel for pyper: filename=PypeR-1.1.2-py3-none-any.whl size=11241 sha256=67b3f35a8fe5ee709c63730c54b64cbd3e0a8692b37eb914dcfa7b9c3df8a678\n",
      "  Stored in directory: /Users/sa2007/Library/Caches/pip/wheels/f7/57/b1/04bb5f8b9dd0f087f8ac33573198741187beef11e8b55c98f0\n",
      "Successfully built pyper\n",
      "Installing collected packages: pyper\n",
      "Successfully installed pyper-1.1.2\n"
     ]
    },
    {
     "data": {
      "text/plain": [
       "pyper.R"
      ]
     },
     "execution_count": 36,
     "metadata": {},
     "output_type": "execute_result"
    }
   ],
   "source": [
    "!pip install pyper\n",
    "import pyper\n",
    "r = pyper.R()\n",
    "type(r)"
   ]
  },
  {
   "cell_type": "code",
   "execution_count": 38,
   "metadata": {},
   "outputs": [
    {
     "name": "stdout",
     "output_type": "stream",
     "text": [
      "try({summary(data)})\n",
      "       N           y              x           id        \n",
      " Min.   :8   Min.   :0.00   Min.   :2   Min.   :  1.00  \n",
      " 1st Qu.:8   1st Qu.:1.00   1st Qu.:3   1st Qu.: 25.75  \n",
      " Median :8   Median :3.00   Median :4   Median : 50.50  \n",
      " Mean   :8   Mean   :3.81   Mean   :4   Mean   : 50.50  \n",
      " 3rd Qu.:8   3rd Qu.:7.00   3rd Qu.:5   3rd Qu.: 75.25  \n",
      " Max.   :8   Max.   :8.00   Max.   :6   Max.   :100.00  \n",
      "\n"
     ]
    }
   ],
   "source": [
    "r.assign(\"data\", d)\n",
    "\n",
    "print(r(\"summary(data)\"))"
   ]
  },
  {
   "cell_type": "code",
   "execution_count": 41,
   "metadata": {},
   "outputs": [
    {
     "name": "stdout",
     "output_type": "stream",
     "text": [
      "{'boot': 0, 'converged': True, 'coefficients': array([-4.18990083,  1.0048429 ]), 'coef.sd': array([0.87768931, 0.20746726]), 'sigma': 2.40818441259159, 'sigma.sd': 0.220207121126685, 'variance': array([[ 7.70338527e-01, -5.69100843e-04, -1.45622415e-03],\n",
      "       [-5.69100843e-04,  4.30426647e-02,  1.18130781e-02],\n",
      "       [-1.45622415e-03,  1.18130781e-02,  4.84911762e-02]]), 'aic': 275.41422406129, 'bootP': None, 'deviance': 269.41422406129, 'df.residual': 97, 'cluster.null.deviance': 513.836264179973, 'cluster.null.df': 98, 'posterior.modes': array([-1.33717127,  0.19525782,  0.96712293,  2.00676514,  0.19525782,\n",
      "       -1.33717127, -1.33717127,  3.55622124,  0.19525782,  2.96238793,\n",
      "       -1.33717127, -1.33717127, -1.33717127, -1.33717127, -1.33717127,\n",
      "        0.19525782,  1.52627594,  2.46931607,  1.52627594,  3.55622124,\n",
      "        0.06883161, -0.64844365, -1.95068189,  2.05046367, -0.64844365,\n",
      "        0.06883161, -1.95068189, -1.95068189, -1.95068189,  0.60820467,\n",
      "        1.54625283,  1.54625283, -1.95068189, -1.95068189, -1.95068189,\n",
      "        3.63912978,  1.08201629,  0.06883161, -1.95068189,  3.63912978,\n",
      "        1.14187599, -0.83434762, -2.63806929,  0.62433193,  1.14187599,\n",
      "       -0.83434762,  2.88426326, -0.83434762,  1.80066545,  1.80066545,\n",
      "        2.88426326, -2.63806929,  0.15699358,  1.80066545, -0.31172889,\n",
      "       -1.50661638, -0.31172889, -0.83434762,  2.88426326, -2.63806929,\n",
      "        0.93825437, -0.76806875, -1.74167413, -1.23319731, -1.23319731,\n",
      "        0.93825437,  2.17690982,  0.93825437, -3.37847072,  0.93825437,\n",
      "        2.17690982,  2.17690982,  2.17690982,  0.23721234,  0.93825437,\n",
      "       -0.76806875, -0.29615681, -2.37646571,  2.17690982, -1.74167413,\n",
      "       -3.25586934, -3.25586934, -4.15753739,  1.53551116,  1.53551116,\n",
      "        1.53551116,  1.53551116,  1.53551116,  1.53551116,  1.53551116,\n",
      "        1.53551116, -4.15753739, -0.6628297 , -2.15590396, -2.15590396,\n",
      "        0.08927529, -1.21489937,  0.08927529, -2.65252652,  1.53551116]), 'prior': 'gaussian', 'terms': array(['~', 'cbind(y, N - y)', 'x'], dtype='<U15'), 'info': 0, 'call': array(['glmmML', 'cbind(y, N - y) ~ x', 'binomial', 'data', 'id'],\n",
      "      dtype='<U19')}\n"
     ]
    }
   ],
   "source": [
    "result = r.get(\"result\")\n",
    "\n",
    "print(result)"
   ]
  }
 ],
 "metadata": {
  "kernelspec": {
   "display_name": "base",
   "language": "python",
   "name": "python3"
  },
  "language_info": {
   "codemirror_mode": {
    "name": "ipython",
    "version": 3
   },
   "file_extension": ".py",
   "mimetype": "text/x-python",
   "name": "python",
   "nbconvert_exporter": "python",
   "pygments_lexer": "ipython3",
   "version": "3.11.5"
  }
 },
 "nbformat": 4,
 "nbformat_minor": 2
}
