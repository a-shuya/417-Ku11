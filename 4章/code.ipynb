{
 "cells": [
  {
   "cell_type": "code",
   "execution_count": 13,
   "metadata": {},
   "outputs": [
    {
     "name": "stderr",
     "output_type": "stream",
     "text": [
      "/var/folders/5h/w_ddszcj1b9581y293ys2dw40000gn/T/ipykernel_57622/3041523087.py:10: MatplotlibDeprecationWarning: The seaborn styles shipped by Matplotlib are deprecated since 3.6, as they no longer correspond to the styles shipped by seaborn. However, they will remain available as 'seaborn-v0_8-<style>'. Alternatively, directly use the seaborn API instead.\n",
      "  plt.style.use('seaborn-white')\n"
     ]
    }
   ],
   "source": [
    "import numpy as np\n",
    "import pandas as pd\n",
    "import matplotlib.pyplot as plt\n",
    "import seaborn as sns\n",
    "from scipy.special import factorial\n",
    "from scipy.stats import poisson\n",
    "import statsmodels.api as sm\n",
    "import statsmodels.formula.api as smf\n",
    "%matplotlib inline\n",
    "plt.style.use('seaborn-white')\n",
    "plt.rcParams['figure.figsize'] = (5,3)"
   ]
  },
  {
   "cell_type": "code",
   "execution_count": 14,
   "metadata": {},
   "outputs": [
    {
     "name": "stdout",
     "output_type": "stream",
     "text": [
      "                 Generalized Linear Model Regression Results                  \n",
      "==============================================================================\n",
      "Dep. Variable:                      y   No. Observations:                  100\n",
      "Model:                            GLM   Df Residuals:                       98\n",
      "Model Family:                 Poisson   Df Model:                            1\n",
      "Link Function:                    Log   Scale:                          1.0000\n",
      "Method:                          IRLS   Log-Likelihood:                -235.39\n",
      "Date:                Thu, 30 May 2024   Deviance:                       84.993\n",
      "Time:                        13:28:05   Pearson chi2:                     83.8\n",
      "No. Iterations:                     4   Pseudo R-squ. (CS):            0.04414\n",
      "Covariance Type:            nonrobust                                         \n",
      "==============================================================================\n",
      "                 coef    std err          z      P>|z|      [0.025      0.975]\n",
      "------------------------------------------------------------------------------\n",
      "Intercept      1.2917      0.364      3.552      0.000       0.579       2.005\n",
      "x              0.0757      0.036      2.125      0.034       0.006       0.145\n",
      "==============================================================================\n"
     ]
    }
   ],
   "source": [
    "d = pd.read_csv('Data3a.csv')\n",
    "#glm\n",
    "model = smf.glm(formula = 'y ~ x', data=d, family=sm.families.Poisson()).fit()\n",
    "print(model.summary())"
   ]
  },
  {
   "cell_type": "code",
   "execution_count": 15,
   "metadata": {},
   "outputs": [
    {
     "data": {
      "text/plain": [
       "-192.88975252449595"
      ]
     },
     "execution_count": 15,
     "metadata": {},
     "output_type": "execute_result"
    }
   ],
   "source": [
    "#最大対数尤度\n",
    "poisson_pfm = poisson.pmf(d.y, mu=d.y)\n",
    "log_poisson_pfm = np.log(poisson_pfm)\n",
    "sum_log_poisson_pfm = np.sum(log_poisson_pfm)\n",
    "sum_log_poisson_pfm"
   ]
  },
  {
   "cell_type": "code",
   "execution_count": 16,
   "metadata": {},
   "outputs": [
    {
     "name": "stdout",
     "output_type": "stream",
     "text": [
      "                 Generalized Linear Model Regression Results                  \n",
      "==============================================================================\n",
      "Dep. Variable:                      y   No. Observations:                  100\n",
      "Model:                            GLM   Df Residuals:                       99\n",
      "Model Family:                 Poisson   Df Model:                            0\n",
      "Link Function:                    Log   Scale:                          1.0000\n",
      "Method:                          IRLS   Log-Likelihood:                -237.64\n",
      "Date:                Thu, 30 May 2024   Deviance:                       89.507\n",
      "Time:                        13:28:05   Pearson chi2:                     87.1\n",
      "No. Iterations:                     4   Pseudo R-squ. (CS):         -3.997e-15\n",
      "Covariance Type:            nonrobust                                         \n",
      "==============================================================================\n",
      "                 coef    std err          z      P>|z|      [0.025      0.975]\n",
      "------------------------------------------------------------------------------\n",
      "Intercept      2.0580      0.036     57.586      0.000       1.988       2.128\n",
      "==============================================================================\n"
     ]
    }
   ],
   "source": [
    "model_const = smf.glm(formula = 'y ~ 1', data=d, family=sm.families.Poisson()).fit()\n",
    "print(model_const.summary())"
   ]
  }
 ],
 "metadata": {
  "kernelspec": {
   "display_name": "base",
   "language": "python",
   "name": "python3"
  },
  "language_info": {
   "codemirror_mode": {
    "name": "ipython",
    "version": 3
   },
   "file_extension": ".py",
   "mimetype": "text/x-python",
   "name": "python",
   "nbconvert_exporter": "python",
   "pygments_lexer": "ipython3",
   "version": "3.11.5"
  }
 },
 "nbformat": 4,
 "nbformat_minor": 2
}
